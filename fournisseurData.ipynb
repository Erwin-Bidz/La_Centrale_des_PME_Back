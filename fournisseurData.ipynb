{
 "cells": [
  {
   "cell_type": "code",
   "execution_count": 5,
   "metadata": {},
   "outputs": [
    {
     "name": "stdout",
     "output_type": "stream",
     "text": [
      "Les données ont été modifiées et enregistrées dans Investisseurs_modifie.json\n"
     ]
    }
   ],
   "source": [
    "import random\n",
    "import json\n",
    "\n",
    "# Charger les données depuis le fichier JSON\n",
    "with open('C:/Users/user/Downloads/Investisseurs_modifie.json', 'r', encoding='utf-8') as f:\n",
    "    fournisseurs = json.load(f)\n",
    "    \n",
    "activite_ids = [\n",
    "    \"66751e96cad767c1b9bde05b\", \"66751e96cad767c1b9bde05c\", \"66751e96cad767c1b9bde05d\",\n",
    "    \"66751e96cad767c1b9bde05e\", \"66751e96cad767c1b9bde05f\", \"66751e96cad767c1b9bde060\",\n",
    "    \"66751e96cad767c1b9bde061\", \"66751e96cad767c1b9bde062\", \"66751e96cad767c1b9bde063\",\n",
    "    \"66751e96cad767c1b9bde064\", \"66751e96cad767c1b9bde065\", \"66751e96cad767c1b9bde066\",\n",
    "    \"66751e96cad767c1b9bde067\", \"66751e96cad767c1b9bde068\", \"66751e96cad767c1b9bde069\",\n",
    "    \"66751e96cad767c1b9bde06a\", \"66751e96cad767c1b9bde06b\", \"66751e96cad767c1b9bde06c\",\n",
    "    \"66751e96cad767c1b9bde06d\", \"66751e96cad767c1b9bde06e\", \"66751e96cad767c1b9bde06f\",\n",
    "    \"66751e96cad767c1b9bde070\", \"66751e96cad767c1b9bde071\", \"66751e96cad767c1b9bde072\",\n",
    "    \"66751e96cad767c1b9bde073\", \"66751e96cad767c1b9bde074\", \"66751e96cad767c1b9bde075\",\n",
    "    \"66751e96cad767c1b9bde076\", \"66751e96cad767c1b9bde077\", \"66751e96cad767c1b9bde078\",\n",
    "    \"66751e96cad767c1b9bde079\", \"66751e96cad767c1b9bde07a\", \"66751e96cad767c1b9bde07b\",\n",
    "    \"66751e96cad767c1b9bde07c\", \"66751e96cad767c1b9bde07d\", \"66751e96cad767c1b9bde07e\",\n",
    "    \"66751e96cad767c1b9bde07f\", \"66751e96cad767c1b9bde080\", \"66751e96cad767c1b9bde081\",\n",
    "    \"66751e96cad767c1b9bde082\", \"66751e96cad767c1b9bde083\", \"66751e96cad767c1b9bde084\",\n",
    "    \"66751e96cad767c1b9bde085\", \"66751e96cad767c1b9bde086\", \"66751e96cad767c1b9bde087\",\n",
    "    \"66751e96cad767c1b9bde088\", \"66751e96cad767c1b9bde089\", \"66751e96cad767c1b9bde08a\",\n",
    "    \"66751e96cad767c1b9bde08b\", \"66751e96cad767c1b9bde08c\", \"66751e96cad767c1b9bde08d\",\n",
    "    \"66751e96cad767c1b9bde08e\", \"66751e96cad767c1b9bde08f\", \"66751e96cad767c1b9bde090\",\n",
    "    \"66751e96cad767c1b9bde091\", \"66751e96cad767c1b9bde092\", \"66751e96cad767c1b9bde093\",\n",
    "    \"66751e96cad767c1b9bde094\", \"66751e96cad767c1b9bde095\", \"66751e96cad767c1b9bde096\",\n",
    "    \"66751e96cad767c1b9bde097\", \"66751e96cad767c1b9bde098\", \"66751e96cad767c1b9bde099\",\n",
    "    \"66751e96cad767c1b9bde09a\", \"66751e96cad767c1b9bde09b\", \"66751e96cad767c1b9bde09c\",\n",
    "    \"66751e96cad767c1b9bde09d\", \"66751e96cad767c1b9bde09e\", \"66751e96cad767c1b9bde09f\",\n",
    "    \"66751e96cad767c1b9bde0a0\", \"66751e96cad767c1b9bde0a1\", \"66751e96cad767c1b9bde0a2\",\n",
    "    \"66751e96cad767c1b9bde0a3\", \"66751e96cad767c1b9bde0a4\", \"66751e96cad767c1b9bde0a5\",\n",
    "    \"66751e96cad767c1b9bde0a6\", \"66751e96cad767c1b9bde0a7\", \"66751e96cad767c1b9bde0a8\",\n",
    "    \"66751e96cad767c1b9bde0a9\", \"66751e96cad767c1b9bde0aa\", \"66751e96cad767c1b9bde0ab\",\n",
    "    \"66751e96cad767c1b9bde0ac\", \"66751e96cad767c1b9bde0ad\", \"66751e96cad767c1b9bde0ae\",\n",
    "    \"66751e96cad767c1b9bde0af\", \"66751e96cad767c1b9bde0b0\", \"66751e96cad767c1b9bde0b1\",\n",
    "    \"66751e96cad767c1b9bde0b2\"\n",
    "]\n",
    "\n",
    "# Remplacer le champ Activites pour chaque fournisseur\n",
    "for fournisseur in fournisseurs:\n",
    "    # Sélectionne aléatoirement un nombre d'ID entre 1 et 3 (ou plus si souhaité)\n",
    "    nombre_activites = random.randint(1, 15)\n",
    "    fournisseur['DomaineInvestissement'] = random.sample(activite_ids, nombre_activites)\n",
    "\n",
    "# Sauvegarder les modifications dans un nouveau fichier JSON\n",
    "with open('C:/Users/user/Downloads/Investisseurs_modifie.json', 'w', encoding='utf-8') as f:\n",
    "    json.dump(fournisseurs, f, indent=4)\n",
    "\n",
    "print(\"Les données ont été modifiées et enregistrées dans Investisseurs_modifie.json\")\n"
   ]
  }
 ],
 "metadata": {
  "kernelspec": {
   "display_name": "Python 3",
   "language": "python",
   "name": "python3"
  },
  "language_info": {
   "codemirror_mode": {
    "name": "ipython",
    "version": 3
   },
   "file_extension": ".py",
   "mimetype": "text/x-python",
   "name": "python",
   "nbconvert_exporter": "python",
   "pygments_lexer": "ipython3",
   "version": "3.8.2"
  }
 },
 "nbformat": 4,
 "nbformat_minor": 2
}
