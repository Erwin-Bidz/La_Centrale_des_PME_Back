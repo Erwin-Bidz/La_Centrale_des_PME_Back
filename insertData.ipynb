{
 "cells": [
  {
   "cell_type": "code",
   "execution_count": 3,
   "metadata": {},
   "outputs": [
    {
     "name": "stdout",
     "output_type": "stream",
     "text": [
      "Erreur lors de l'envoi du lot 1/5: 400\n",
      "Erreur lors de l'envoi du lot 2/5: 400\n",
      "Erreur lors de l'envoi du lot 3/5: 400\n",
      "Erreur lors de l'envoi du lot 4/5: 400\n",
      "Erreur lors de l'envoi du lot 5/5: 400\n",
      "Toutes les données ont été envoyées par lots.\n"
     ]
    }
   ],
   "source": [
    "import requests # type: ignore\n",
    "import json\n",
    "import math\n",
    "\n",
    "# URL de votre backend\n",
    "url = 'http://localhost:8080/api/pmes/register'\n",
    "\n",
    "# Charger les données depuis le fichier JSON\n",
    "with open('C:/Users/user/Downloads/fournisseurs_modifie_avec_tarifications.json', 'r', encoding='utf-8') as f:\n",
    "    fournisseurs = json.load(f)\n",
    "\n",
    "# Taille des lots à envoyer (par exemple 100 éléments par requête)\n",
    "batch_size = 100\n",
    "\n",
    "# Calcul du nombre de lots\n",
    "total_fournisseurs = len(fournisseurs)\n",
    "num_batches = math.ceil(total_fournisseurs / batch_size)\n",
    "\n",
    "# Envoyer les données par lots pour éviter l'erreur 413\n",
    "for i in range(num_batches):\n",
    "    # Définir la portion de données à envoyer dans ce lot\n",
    "    start_index = i * batch_size\n",
    "    end_index = min((i + 1) * batch_size, total_fournisseurs)\n",
    "    batch_data = fournisseurs[start_index:end_index]\n",
    "    \n",
    "    try:\n",
    "        # Envoyer la requête POST avec un lot de données\n",
    "        response = requests.post(url, json=batch_data)\n",
    "        \n",
    "        # Vérifier la réponse du serveur\n",
    "        if response.status_code == 200:\n",
    "            print(f\"Lot {i + 1}/{num_batches} envoyé avec succès.\")\n",
    "        else:\n",
    "            print(f\"Erreur lors de l'envoi du lot {i + 1}/{num_batches}: {response.status_code}\")\n",
    "    \n",
    "    except requests.exceptions.RequestException as e:\n",
    "        print(f\"Erreur lors de la requête : {e}\")\n",
    "\n",
    "print(\"Toutes les données ont été envoyées par lots.\")\n"
   ]
  }
 ],
 "metadata": {
  "kernelspec": {
   "display_name": "Python 3",
   "language": "python",
   "name": "python3"
  },
  "language_info": {
   "codemirror_mode": {
    "name": "ipython",
    "version": 3
   },
   "file_extension": ".py",
   "mimetype": "text/x-python",
   "name": "python",
   "nbconvert_exporter": "python",
   "pygments_lexer": "ipython3",
   "version": "3.8.2"
  }
 },
 "nbformat": 4,
 "nbformat_minor": 2
}
