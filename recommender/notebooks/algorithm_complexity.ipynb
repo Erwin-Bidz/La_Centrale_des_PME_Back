{
 "cells": [
  {
   "cell_type": "code",
   "execution_count": null,
   "metadata": {},
   "outputs": [
    {
     "ename": "",
     "evalue": "",
     "output_type": "error",
     "traceback": [
      "\u001b[1;31mFailed to start the Kernel. \n",
      "\u001b[1;31mUnable to start Kernel 'Python 3.8.2' due to a timeout waiting for the ports to get used. \n",
      "\u001b[1;31mView Jupyter <a href='command:jupyter.viewOutput'>log</a> for further details."
     ]
    }
   ],
   "source": [
    "import sys\n",
    "sys.path.append('..')  # Ajouter le dossier parent au chemin Python\n",
    "\n",
    "import time\n",
    "import matplotlib.pyplot as plt\n",
    "from similarity import cosine_similarity, jaccard_similarity\n",
    "from recommender import calculate_similarity, get_recommendations\n",
    "\n",
    "# Mesurer le temps d'exécution de cosine_similarity\n",
    "def measure_cosine_similarity(n):\n",
    "    text1 = ' '.join(['word'] * n)\n",
    "    text2 = ' '.join(['word'] * n)\n",
    "    start_time = time.time()\n",
    "    cosine_similarity(text1, text2)\n",
    "    return time.time() - start_time"
   ]
  },
  {
   "cell_type": "code",
   "execution_count": null,
   "metadata": {},
   "outputs": [],
   "source": [
    "\n",
    "\n",
    "# Mesurer le temps d'exécution de get_recommendations\n",
    "def measure_get_recommendations(n):\n",
    "    # Assurez-vous d'avoir des données de test dans votre base de données\n",
    "    start_time = time.time()\n",
    "    get_recommendations('test_pme_id')\n",
    "    return time.time() - start_time\n",
    "\n",
    "# Générer des données pour le graphique\n",
    "sizes = range(100, 10001, 100)\n",
    "cosine_times = [measure_cosine_similarity(n) for n in sizes]\n",
    "recommendation_times = [measure_get_recommendations(n) for n in sizes]\n"
   ]
  },
  {
   "cell_type": "code",
   "execution_count": null,
   "metadata": {},
   "outputs": [],
   "source": [
    "\n",
    "# Tracer les graphiques\n",
    "plt.figure(figsize=(12, 6))\n",
    "plt.plot(sizes, cosine_times, label='Cosine Similarity')\n",
    "plt.plot(sizes, recommendation_times, label='Get Recommendations')\n",
    "plt.xlabel('Taille de l\\'entrée')\n",
    "plt.ylabel('Temps d\\'exécution (secondes)')\n",
    "plt.title('Complexité algorithmique')\n",
    "plt.legend()\n",
    "plt.show()"
   ]
  }
 ],
 "metadata": {
  "kernelspec": {
   "display_name": "Python 3",
   "language": "python",
   "name": "python3"
  },
  "language_info": {
   "name": "python",
   "version": "3.8.2"
  }
 },
 "nbformat": 4,
 "nbformat_minor": 2
}
