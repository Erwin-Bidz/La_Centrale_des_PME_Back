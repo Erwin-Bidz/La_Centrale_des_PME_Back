{
 "cells": [
  {
   "cell_type": "code",
   "execution_count": null,
   "metadata": {},
   "outputs": [],
   "source": [
    "import sys\n",
    "sys.path.append('..')  # Ajouter le dossier parent au chemin Python\n",
    "\n",
    "from database import pme_collection\n",
    "from recommender import get_recommendations, identify_relationships\n",
    "from visualization import plot_similarity_distribution, plot_recommendation_network\n",
    "\n",
    "# Choisir une PME pour l'analyse\n",
    "pme_id = 'someMongoDBId'\n",
    "pme = pme_collection.find_one({'_id': ObjectId(pme_id)})\n",
    "\n",
    "# Obtenir les recommandations\n",
    "recommendations = get_recommendations(pme_id)\n"
   ]
  },
  {
   "cell_type": "code",
   "execution_count": null,
   "metadata": {},
   "outputs": [],
   "source": [
    "\n",
    "# Visualiser la distribution des similarités\n",
    "similarities = [rec['similarity'] for rec in recommendations]\n",
    "plot_similarity_distribution(similarities)\n"
   ]
  },
  {
   "cell_type": "code",
   "execution_count": null,
   "metadata": {},
   "outputs": [],
   "source": [
    "\n",
    "# Visualiser le réseau de recommandations\n",
    "plot_recommendation_network(pme, recommendations)\n"
   ]
  },
  {
   "cell_type": "code",
   "execution_count": null,
   "metadata": {},
   "outputs": [],
   "source": [
    "\n",
    "# Analyser les relations\n",
    "relationships = identify_relationships(pme, recommendations)"
   ]
  },
  {
   "cell_type": "code",
   "execution_count": null,
   "metadata": {},
   "outputs": [],
   "source": [
    "\n",
    "print(f\"Nombre de concurrents potentiels: {len(relationships['competitors'])}\")\n",
    "print(f\"Nombre de collaborateurs potentiels: {len(relationships['collaborators'])}\")"
   ]
  }
 ],
 "metadata": {
  "language_info": {
   "name": "python"
  }
 },
 "nbformat": 4,
 "nbformat_minor": 2
}
