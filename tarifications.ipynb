{
 "cells": [
  {
   "cell_type": "code",
   "execution_count": null,
   "metadata": {},
   "outputs": [],
   "source": [
    "import random\n",
    "import json\n",
    "\n",
    "# Charger les données depuis le fichier JSON\n",
    "with open('C:/Users/user/Downloads/aagentgouv_modifie.json', 'r', encoding='utf-8') as f:\n",
    "    fournisseurs = json.load(f)\n",
    "\n",
    "# Liste d'exemples de produits pour les fournisseurs\n",
    "produits_possibles = [\n",
    "    \"Produit A\", \"Produit B\", \"Produit C\", \"Produit D\", \"Produit E\",\n",
    "    \"Produit F\", \"Produit G\", \"Produit H\", \"Produit I\", \"Produit J\"\n",
    "]\n",
    "\n",
    "# Fonction pour générer des tarifications aléatoires pour un fournisseur\n",
    "def generer_tarifications():\n",
    "    nombre_produits = random.randint(1, 5)  # Chaque fournisseur a entre 1 et 5 produits\n",
    "    tarifications = []\n",
    "    \n",
    "    for _ in range(nombre_produits):\n",
    "        produit = random.choice(produits_possibles)\n",
    "        prix = round(random.uniform(10, 1000), 2)  # Génère un prix aléatoire entre 10 et 1000 euros\n",
    "        tarifications.append({\"Produit\": produit, \"Prix\": prix})\n",
    "    \n",
    "    return tarifications\n",
    "\n",
    "# Ajouter le champ Tarifications pour chaque fournisseur\n",
    "for fournisseur in fournisseurs:\n",
    "    fournisseur['Tarifications'] = generer_tarifications()\n",
    "\n",
    "# Sauvegarder les modifications dans un nouveau fichier JSON\n",
    "with open('C:/Users/user/Downloads/aagentgouv_modifie.json', 'w', encoding='utf-8') as f:\n",
    "    json.dump(fournisseurs, f, indent=4)\n",
    "\n",
    "print(\"Les données avec tarifications ont été modifiées et enregistrées dans aagentgouv_modifie.json\")\n"
   ]
  }
 ],
 "metadata": {
  "language_info": {
   "name": "python"
  }
 },
 "nbformat": 4,
 "nbformat_minor": 2
}
