import json
import random
    
    # Charger les données depuis le fichier JSON
with open('C:/Users/user/Downloads/aagentgouv_modifie.json', 'r', encoding='utf-8') as f:
        fournisseurs = json.load(f)
    
    # Liste d'exemples de produits pour les fournisseurs,
    produits_possibles = [
        "Produit A", "Produit B", "Produit C", "Produit D", "Produit E",
        "Produit F", "Produit G", "Produit H", "Produit I", "Produit J"
    ]
    
    # Fonction pour générer des tarifications aléatoires pour un fournisseur
    def generer_tarifications():
        nombre_produits = random.randint(1, 5)  # Chaque fournisseur a entre 1 et 5 produits
        tarifications = []

        for _ in range(nombre_produits):
            produit = random.choice(produits_possibles)
            prix = round(random.uniform(10, 1000), 2)  # Génère un prix aléatoire entre 10 et 1000 euros
            tarifications.append({"Produit": produit, "Prix": prix})
        
        return tarifications
    
    # Ajouter le champ Tarifications pour chaque fournisseur
    for fournisseur in fournisseurs:
        fournisseur['Tarifications'] = generer_tarifications()
    
    # Sauvegarder les modifications dans un nouveau fichier JSON
    with open('C:/Users/user/Downloads/aagentgouv_modifie.json', 'w', encoding='utf-8') as f:
        json.dump(fournisseurs, f, indent=4)
    
    print("Les données avec tarifications ont été modifiées et enregistrées dans aagentgouv_modifie.json"

 